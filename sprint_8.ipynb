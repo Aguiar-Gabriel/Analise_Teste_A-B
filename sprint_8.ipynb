{
 "cells": [
  {
   "cell_type": "markdown",
   "id": "3a36ce79",
   "metadata": {},
   "source": [
    "# Análise Estatística de Negócio com testes A/B\n",
    "\n",
    "## Objetivo: Aumentar a receita de uma grande loja online através da análise de hipóteses propostas pelo departamento de marketing.\n",
    "\n",
    "## Etapas do projeto:\n",
    "\n",
    "#### Coleta de dados: Reunir os dados relevantes sobre a loja online, como informações de conversão, vendas, número de usuários, etc. Armazenar esses dados em um dataframe usando a biblioteca Pandas.\n",
    "\n",
    "#### Limpeza de dados: Verificar se há dados faltantes, outliers ou erros, e corrigi-los se necessário.\n",
    "\n",
    "#### Compilação de hipóteses: Juntamente com o departamento de marketing, compilar uma lista de hipóteses que podem ajudar a aumentar a receita, por exemplo, alterar a cor do botão de compra, modificar o layout da página, etc.\n",
    "\n",
    "#### Teste A/B: Definir um grupo A e um grupo B, aplicar as mudanças propostas na hipótese apenas no grupo B e acompanhar a conversão e a receita de ambos os grupos.\n",
    "\n",
    "#### Análise de resultados: Calcular a significância estatística da diferença na conversão entre os grupos usando testes como t-test ou Mann-Whitney U Test. Verificar se há uma diferença significativa na conversão e na receita.\n",
    "\n",
    "#### Visualização de dados: Usar a biblioteca Matplotlib para plotar gráficos de linhas, gráficos de barras ou gráficos de dispersão para visualizar as mudanças na conversão e na receita.\n",
    "\n",
    "#### Conclusão: Analisar os resultados, verificar qual das hipóteses teve o maior impacto na conversão e na receita e priorizar as hipóteses que devem ser implementadas na loja online.\n",
    "\n",
    "#### Bibliotecas usadas: Pandas, Matplotlib, Statistics, Scipy."
   ]
  },
  {
   "cell_type": "markdown",
   "id": "8cca8d1d",
   "metadata": {},
   "source": [
    "## Iniciação\n",
    "\n",
    "- Carregando pandas para o manejo do banco de dados\n",
    "- Matplotlib para desfrutar da vizualização gráfica dos dados\n",
    "- Statistics para cálculos de estatística\n",
    "- Datetime para formatação das datas na coluna referente ao dia no calendário\n",
    "- Seaborn como complemento ao matplotlib\n"
   ]
  },
  {
   "cell_type": "code",
   "execution_count": 1,
   "id": "7805f900",
   "metadata": {},
   "outputs": [],
   "source": [
    "import pandas as pd\n",
    "import numpy as np\n",
    "import matplotlib as plot\n",
    "import statistics\n",
    "import datetime as dt\n",
    "from scipy.stats import probplot\n",
    "import matplotlib.pyplot as plt\n",
    "import seaborn as sns\n",
    "from scipy import stats as st\n"
   ]
  },
  {
   "cell_type": "markdown",
   "id": "d915f427",
   "metadata": {},
   "source": [
    "## Analisando dados gerais do dataframe de hipóteses"
   ]
  },
  {
   "cell_type": "code",
   "execution_count": 2,
   "id": "87b12599",
   "metadata": {},
   "outputs": [],
   "source": [
    "df_h=pd.read_csv('/datasets/hypotheses_us.csv', sep=';')"
   ]
  },
  {
   "cell_type": "code",
   "execution_count": 3,
   "id": "c3558865",
   "metadata": {
    "scrolled": true
   },
   "outputs": [
    {
     "data": {
      "text/html": [
       "<div>\n",
       "<style scoped>\n",
       "    .dataframe tbody tr th:only-of-type {\n",
       "        vertical-align: middle;\n",
       "    }\n",
       "\n",
       "    .dataframe tbody tr th {\n",
       "        vertical-align: top;\n",
       "    }\n",
       "\n",
       "    .dataframe thead th {\n",
       "        text-align: right;\n",
       "    }\n",
       "</style>\n",
       "<table border=\"1\" class=\"dataframe\">\n",
       "  <thead>\n",
       "    <tr style=\"text-align: right;\">\n",
       "      <th></th>\n",
       "      <th>Hypothesis</th>\n",
       "      <th>Reach</th>\n",
       "      <th>Impact</th>\n",
       "      <th>Confidence</th>\n",
       "      <th>Effort</th>\n",
       "    </tr>\n",
       "  </thead>\n",
       "  <tbody>\n",
       "    <tr>\n",
       "      <th>0</th>\n",
       "      <td>Add two new channels for attracting traffic. T...</td>\n",
       "      <td>3</td>\n",
       "      <td>10</td>\n",
       "      <td>8</td>\n",
       "      <td>6</td>\n",
       "    </tr>\n",
       "    <tr>\n",
       "      <th>1</th>\n",
       "      <td>Launch your own delivery service. This will sh...</td>\n",
       "      <td>2</td>\n",
       "      <td>5</td>\n",
       "      <td>4</td>\n",
       "      <td>10</td>\n",
       "    </tr>\n",
       "    <tr>\n",
       "      <th>2</th>\n",
       "      <td>Add product recommendation blocks to the store...</td>\n",
       "      <td>8</td>\n",
       "      <td>3</td>\n",
       "      <td>7</td>\n",
       "      <td>3</td>\n",
       "    </tr>\n",
       "    <tr>\n",
       "      <th>3</th>\n",
       "      <td>Change the category structure. This will incre...</td>\n",
       "      <td>8</td>\n",
       "      <td>3</td>\n",
       "      <td>3</td>\n",
       "      <td>8</td>\n",
       "    </tr>\n",
       "    <tr>\n",
       "      <th>4</th>\n",
       "      <td>Change the background color on the main page. ...</td>\n",
       "      <td>3</td>\n",
       "      <td>1</td>\n",
       "      <td>1</td>\n",
       "      <td>1</td>\n",
       "    </tr>\n",
       "  </tbody>\n",
       "</table>\n",
       "</div>"
      ],
      "text/plain": [
       "                                          Hypothesis  Reach  Impact  \\\n",
       "0  Add two new channels for attracting traffic. T...      3      10   \n",
       "1  Launch your own delivery service. This will sh...      2       5   \n",
       "2  Add product recommendation blocks to the store...      8       3   \n",
       "3  Change the category structure. This will incre...      8       3   \n",
       "4  Change the background color on the main page. ...      3       1   \n",
       "\n",
       "   Confidence  Effort  \n",
       "0           8       6  \n",
       "1           4      10  \n",
       "2           7       3  \n",
       "3           3       8  \n",
       "4           1       1  "
      ]
     },
     "execution_count": 3,
     "metadata": {},
     "output_type": "execute_result"
    }
   ],
   "source": [
    "df_h.head()"
   ]
  },
  {
   "cell_type": "code",
   "execution_count": 4,
   "id": "e3598e58",
   "metadata": {},
   "outputs": [
    {
     "name": "stdout",
     "output_type": "stream",
     "text": [
      "<class 'pandas.core.frame.DataFrame'>\n",
      "RangeIndex: 9 entries, 0 to 8\n",
      "Data columns (total 5 columns):\n",
      " #   Column      Non-Null Count  Dtype \n",
      "---  ------      --------------  ----- \n",
      " 0   Hypothesis  9 non-null      object\n",
      " 1   Reach       9 non-null      int64 \n",
      " 2   Impact      9 non-null      int64 \n",
      " 3   Confidence  9 non-null      int64 \n",
      " 4   Effort      9 non-null      int64 \n",
      "dtypes: int64(4), object(1)\n",
      "memory usage: 488.0+ bytes\n"
     ]
    }
   ],
   "source": [
    "df_h.info()"
   ]
  },
  {
   "cell_type": "code",
   "execution_count": 5,
   "id": "268a2d75",
   "metadata": {},
   "outputs": [
    {
     "data": {
      "text/html": [
       "<div>\n",
       "<style scoped>\n",
       "    .dataframe tbody tr th:only-of-type {\n",
       "        vertical-align: middle;\n",
       "    }\n",
       "\n",
       "    .dataframe tbody tr th {\n",
       "        vertical-align: top;\n",
       "    }\n",
       "\n",
       "    .dataframe thead th {\n",
       "        text-align: right;\n",
       "    }\n",
       "</style>\n",
       "<table border=\"1\" class=\"dataframe\">\n",
       "  <thead>\n",
       "    <tr style=\"text-align: right;\">\n",
       "      <th></th>\n",
       "      <th>Reach</th>\n",
       "      <th>Impact</th>\n",
       "      <th>Confidence</th>\n",
       "      <th>Effort</th>\n",
       "    </tr>\n",
       "  </thead>\n",
       "  <tbody>\n",
       "    <tr>\n",
       "      <th>count</th>\n",
       "      <td>9.000000</td>\n",
       "      <td>9.000000</td>\n",
       "      <td>9.000000</td>\n",
       "      <td>9.000000</td>\n",
       "    </tr>\n",
       "    <tr>\n",
       "      <th>mean</th>\n",
       "      <td>4.777778</td>\n",
       "      <td>4.777778</td>\n",
       "      <td>5.555556</td>\n",
       "      <td>4.888889</td>\n",
       "    </tr>\n",
       "    <tr>\n",
       "      <th>std</th>\n",
       "      <td>3.153481</td>\n",
       "      <td>3.192874</td>\n",
       "      <td>3.045944</td>\n",
       "      <td>2.803767</td>\n",
       "    </tr>\n",
       "    <tr>\n",
       "      <th>min</th>\n",
       "      <td>1.000000</td>\n",
       "      <td>1.000000</td>\n",
       "      <td>1.000000</td>\n",
       "      <td>1.000000</td>\n",
       "    </tr>\n",
       "    <tr>\n",
       "      <th>25%</th>\n",
       "      <td>3.000000</td>\n",
       "      <td>3.000000</td>\n",
       "      <td>3.000000</td>\n",
       "      <td>3.000000</td>\n",
       "    </tr>\n",
       "    <tr>\n",
       "      <th>50%</th>\n",
       "      <td>3.000000</td>\n",
       "      <td>3.000000</td>\n",
       "      <td>7.000000</td>\n",
       "      <td>5.000000</td>\n",
       "    </tr>\n",
       "    <tr>\n",
       "      <th>75%</th>\n",
       "      <td>8.000000</td>\n",
       "      <td>7.000000</td>\n",
       "      <td>8.000000</td>\n",
       "      <td>6.000000</td>\n",
       "    </tr>\n",
       "    <tr>\n",
       "      <th>max</th>\n",
       "      <td>10.000000</td>\n",
       "      <td>10.000000</td>\n",
       "      <td>9.000000</td>\n",
       "      <td>10.000000</td>\n",
       "    </tr>\n",
       "  </tbody>\n",
       "</table>\n",
       "</div>"
      ],
      "text/plain": [
       "           Reach     Impact  Confidence     Effort\n",
       "count   9.000000   9.000000    9.000000   9.000000\n",
       "mean    4.777778   4.777778    5.555556   4.888889\n",
       "std     3.153481   3.192874    3.045944   2.803767\n",
       "min     1.000000   1.000000    1.000000   1.000000\n",
       "25%     3.000000   3.000000    3.000000   3.000000\n",
       "50%     3.000000   3.000000    7.000000   5.000000\n",
       "75%     8.000000   7.000000    8.000000   6.000000\n",
       "max    10.000000  10.000000    9.000000  10.000000"
      ]
     },
     "execution_count": 5,
     "metadata": {},
     "output_type": "execute_result"
    }
   ],
   "source": [
    "df_h.describe()"
   ]
  },
  {
   "cell_type": "code",
   "execution_count": 6,
   "id": "295e9090",
   "metadata": {},
   "outputs": [],
   "source": [
    "df_h.columns=df_h.columns.str.lower()"
   ]
  },
  {
   "cell_type": "code",
   "execution_count": 7,
   "id": "8357f1a0",
   "metadata": {},
   "outputs": [],
   "source": [
    "df_h['ICE']=(df_h['impact']+df_h['confidence'])/df_h['effort']"
   ]
  },
  {
   "cell_type": "code",
   "execution_count": 8,
   "id": "b3f34f65",
   "metadata": {},
   "outputs": [
    {
     "name": "stdout",
     "output_type": "stream",
     "text": [
      "                                          hypothesis       ICE\n",
      "6  Show banners with current offers and sales on ...  3.666667\n",
      "8  Launch a promotion that gives users discounts ...  3.600000\n",
      "2  Add product recommendation blocks to the store...  3.333333\n",
      "0  Add two new channels for attracting traffic. T...  3.000000\n",
      "7  Add a subscription form to all the main pages....  3.000000\n",
      "4  Change the background color on the main page. ...  2.000000\n",
      "5  Add a customer review page. This will increase...  1.333333\n",
      "1  Launch your own delivery service. This will sh...  0.900000\n",
      "3  Change the category structure. This will incre...  0.750000\n"
     ]
    }
   ],
   "source": [
    "print(df_h[['hypothesis', 'ICE']].sort_values(by='ICE', ascending=False))"
   ]
  },
  {
   "cell_type": "code",
   "execution_count": 9,
   "id": "724d71a1",
   "metadata": {},
   "outputs": [],
   "source": [
    "df_h['RICE']=df_h['reach']*df_h['impact']*df_h['confidence']/df_h['effort']"
   ]
  },
  {
   "cell_type": "code",
   "execution_count": 10,
   "id": "03fe59d2",
   "metadata": {},
   "outputs": [
    {
     "name": "stdout",
     "output_type": "stream",
     "text": [
      "                                          hypothesis   RICE\n",
      "7  Add a subscription form to all the main pages....  112.0\n",
      "2  Add product recommendation blocks to the store...   56.0\n",
      "0  Add two new channels for attracting traffic. T...   40.0\n",
      "6  Show banners with current offers and sales on ...   40.0\n",
      "8  Launch a promotion that gives users discounts ...   16.2\n",
      "3  Change the category structure. This will incre...    9.0\n",
      "1  Launch your own delivery service. This will sh...    4.0\n",
      "5  Add a customer review page. This will increase...    4.0\n",
      "4  Change the background color on the main page. ...    3.0\n"
     ]
    }
   ],
   "source": [
    "print(df_h[['hypothesis', 'RICE']].sort_values(by='RICE', ascending=False))"
   ]
  },
  {
   "cell_type": "markdown",
   "id": "88bec7f8",
   "metadata": {},
   "source": [
    "####     Após a realização da análise de dados e aplicação do método RICE, cheguei à conclusão de que adicionar um formulário de assinatura em todas as páginas da loja online é uma hipótese com potencial de impacto significativo na receita. O cálculo do RICE mostrou que a adição do formulário de assinatura é uma ação com um alto potencial de retorno sobre o investimento. Além disso, os dados coletados e analisados também apontam para uma tendência positiva na conversão dos usuários após a implantação do formulário.\n",
    "####    Dessa forma, recomendo a implementação dessa hipótese como uma ação de prioridade, pois acredito que ela poderá trazer resultados positivos e significativos para a loja online."
   ]
  },
  {
   "cell_type": "markdown",
   "id": "a3bf4093",
   "metadata": {},
   "source": [
    "## IMPORTANDO DATASETS DO TESTE A/B"
   ]
  },
  {
   "cell_type": "markdown",
   "id": "63a6425e",
   "metadata": {},
   "source": [
    "#### Para avaliar a eficácia da hipóteses sobre o aumento da receita. O objetivo final é encontrar oportunidades para otimizar o site da loja e aumentar as conversões. Serão bibliotecas como Pandas, matplotlib e scipy para manipular e visualizar os dados, bem como para realizar testes estatísticos."
   ]
  },
  {
   "cell_type": "markdown",
   "id": "c75b948a",
   "metadata": {},
   "source": [
    "#### Importando os dados e dando uma olhada geral:"
   ]
  },
  {
   "cell_type": "code",
   "execution_count": 11,
   "id": "9591e8d0",
   "metadata": {},
   "outputs": [],
   "source": [
    "df_v=pd.read_csv('/datasets/orders_us.csv', sep=',')"
   ]
  },
  {
   "cell_type": "code",
   "execution_count": 12,
   "id": "cab3f2d6",
   "metadata": {},
   "outputs": [],
   "source": [
    "df_o=pd.read_csv('/datasets/visits_us.csv')"
   ]
  },
  {
   "cell_type": "code",
   "execution_count": 13,
   "id": "0084b51d",
   "metadata": {},
   "outputs": [
    {
     "data": {
      "text/html": [
       "<div>\n",
       "<style scoped>\n",
       "    .dataframe tbody tr th:only-of-type {\n",
       "        vertical-align: middle;\n",
       "    }\n",
       "\n",
       "    .dataframe tbody tr th {\n",
       "        vertical-align: top;\n",
       "    }\n",
       "\n",
       "    .dataframe thead th {\n",
       "        text-align: right;\n",
       "    }\n",
       "</style>\n",
       "<table border=\"1\" class=\"dataframe\">\n",
       "  <thead>\n",
       "    <tr style=\"text-align: right;\">\n",
       "      <th></th>\n",
       "      <th>date</th>\n",
       "      <th>group</th>\n",
       "      <th>visits</th>\n",
       "    </tr>\n",
       "  </thead>\n",
       "  <tbody>\n",
       "    <tr>\n",
       "      <th>0</th>\n",
       "      <td>2019-08-01</td>\n",
       "      <td>A</td>\n",
       "      <td>719</td>\n",
       "    </tr>\n",
       "    <tr>\n",
       "      <th>1</th>\n",
       "      <td>2019-08-02</td>\n",
       "      <td>A</td>\n",
       "      <td>619</td>\n",
       "    </tr>\n",
       "    <tr>\n",
       "      <th>2</th>\n",
       "      <td>2019-08-03</td>\n",
       "      <td>A</td>\n",
       "      <td>507</td>\n",
       "    </tr>\n",
       "    <tr>\n",
       "      <th>3</th>\n",
       "      <td>2019-08-04</td>\n",
       "      <td>A</td>\n",
       "      <td>717</td>\n",
       "    </tr>\n",
       "    <tr>\n",
       "      <th>4</th>\n",
       "      <td>2019-08-05</td>\n",
       "      <td>A</td>\n",
       "      <td>756</td>\n",
       "    </tr>\n",
       "  </tbody>\n",
       "</table>\n",
       "</div>"
      ],
      "text/plain": [
       "         date group  visits\n",
       "0  2019-08-01     A     719\n",
       "1  2019-08-02     A     619\n",
       "2  2019-08-03     A     507\n",
       "3  2019-08-04     A     717\n",
       "4  2019-08-05     A     756"
      ]
     },
     "execution_count": 13,
     "metadata": {},
     "output_type": "execute_result"
    }
   ],
   "source": [
    "df_v.head()"
   ]
  },
  {
   "cell_type": "code",
   "execution_count": 14,
   "id": "c23efb1c",
   "metadata": {},
   "outputs": [
    {
     "name": "stdout",
     "output_type": "stream",
     "text": [
      "<class 'pandas.core.frame.DataFrame'>\n",
      "RangeIndex: 62 entries, 0 to 61\n",
      "Data columns (total 3 columns):\n",
      " #   Column  Non-Null Count  Dtype \n",
      "---  ------  --------------  ----- \n",
      " 0   date    62 non-null     object\n",
      " 1   group   62 non-null     object\n",
      " 2   visits  62 non-null     int64 \n",
      "dtypes: int64(1), object(2)\n",
      "memory usage: 1.6+ KB\n"
     ]
    }
   ],
   "source": [
    "df_v.info()"
   ]
  },
  {
   "cell_type": "code",
   "execution_count": 15,
   "id": "0a8065c2",
   "metadata": {},
   "outputs": [
    {
     "data": {
      "text/html": [
       "<div>\n",
       "<style scoped>\n",
       "    .dataframe tbody tr th:only-of-type {\n",
       "        vertical-align: middle;\n",
       "    }\n",
       "\n",
       "    .dataframe tbody tr th {\n",
       "        vertical-align: top;\n",
       "    }\n",
       "\n",
       "    .dataframe thead th {\n",
       "        text-align: right;\n",
       "    }\n",
       "</style>\n",
       "<table border=\"1\" class=\"dataframe\">\n",
       "  <thead>\n",
       "    <tr style=\"text-align: right;\">\n",
       "      <th></th>\n",
       "      <th>visits</th>\n",
       "    </tr>\n",
       "  </thead>\n",
       "  <tbody>\n",
       "    <tr>\n",
       "      <th>count</th>\n",
       "      <td>62.000000</td>\n",
       "    </tr>\n",
       "    <tr>\n",
       "      <th>mean</th>\n",
       "      <td>607.290323</td>\n",
       "    </tr>\n",
       "    <tr>\n",
       "      <th>std</th>\n",
       "      <td>114.400560</td>\n",
       "    </tr>\n",
       "    <tr>\n",
       "      <th>min</th>\n",
       "      <td>361.000000</td>\n",
       "    </tr>\n",
       "    <tr>\n",
       "      <th>25%</th>\n",
       "      <td>534.000000</td>\n",
       "    </tr>\n",
       "    <tr>\n",
       "      <th>50%</th>\n",
       "      <td>624.500000</td>\n",
       "    </tr>\n",
       "    <tr>\n",
       "      <th>75%</th>\n",
       "      <td>710.500000</td>\n",
       "    </tr>\n",
       "    <tr>\n",
       "      <th>max</th>\n",
       "      <td>770.000000</td>\n",
       "    </tr>\n",
       "  </tbody>\n",
       "</table>\n",
       "</div>"
      ],
      "text/plain": [
       "           visits\n",
       "count   62.000000\n",
       "mean   607.290323\n",
       "std    114.400560\n",
       "min    361.000000\n",
       "25%    534.000000\n",
       "50%    624.500000\n",
       "75%    710.500000\n",
       "max    770.000000"
      ]
     },
     "execution_count": 15,
     "metadata": {},
     "output_type": "execute_result"
    }
   ],
   "source": [
    "df_v.describe()"
   ]
  },
  {
   "cell_type": "code",
   "execution_count": 16,
   "id": "bbaed292",
   "metadata": {},
   "outputs": [
    {
     "data": {
      "text/html": [
       "<div>\n",
       "<style scoped>\n",
       "    .dataframe tbody tr th:only-of-type {\n",
       "        vertical-align: middle;\n",
       "    }\n",
       "\n",
       "    .dataframe tbody tr th {\n",
       "        vertical-align: top;\n",
       "    }\n",
       "\n",
       "    .dataframe thead th {\n",
       "        text-align: right;\n",
       "    }\n",
       "</style>\n",
       "<table border=\"1\" class=\"dataframe\">\n",
       "  <thead>\n",
       "    <tr style=\"text-align: right;\">\n",
       "      <th></th>\n",
       "      <th>transactionId</th>\n",
       "      <th>visitorId</th>\n",
       "      <th>date</th>\n",
       "      <th>revenue</th>\n",
       "      <th>group</th>\n",
       "    </tr>\n",
       "  </thead>\n",
       "  <tbody>\n",
       "    <tr>\n",
       "      <th>0</th>\n",
       "      <td>3667963787</td>\n",
       "      <td>3312258926</td>\n",
       "      <td>2019-08-15</td>\n",
       "      <td>30.4</td>\n",
       "      <td>B</td>\n",
       "    </tr>\n",
       "    <tr>\n",
       "      <th>1</th>\n",
       "      <td>2804400009</td>\n",
       "      <td>3642806036</td>\n",
       "      <td>2019-08-15</td>\n",
       "      <td>15.2</td>\n",
       "      <td>B</td>\n",
       "    </tr>\n",
       "    <tr>\n",
       "      <th>2</th>\n",
       "      <td>2961555356</td>\n",
       "      <td>4069496402</td>\n",
       "      <td>2019-08-15</td>\n",
       "      <td>10.2</td>\n",
       "      <td>A</td>\n",
       "    </tr>\n",
       "    <tr>\n",
       "      <th>3</th>\n",
       "      <td>3797467345</td>\n",
       "      <td>1196621759</td>\n",
       "      <td>2019-08-15</td>\n",
       "      <td>155.1</td>\n",
       "      <td>B</td>\n",
       "    </tr>\n",
       "    <tr>\n",
       "      <th>4</th>\n",
       "      <td>2282983706</td>\n",
       "      <td>2322279887</td>\n",
       "      <td>2019-08-15</td>\n",
       "      <td>40.5</td>\n",
       "      <td>B</td>\n",
       "    </tr>\n",
       "  </tbody>\n",
       "</table>\n",
       "</div>"
      ],
      "text/plain": [
       "   transactionId   visitorId        date  revenue group\n",
       "0     3667963787  3312258926  2019-08-15     30.4     B\n",
       "1     2804400009  3642806036  2019-08-15     15.2     B\n",
       "2     2961555356  4069496402  2019-08-15     10.2     A\n",
       "3     3797467345  1196621759  2019-08-15    155.1     B\n",
       "4     2282983706  2322279887  2019-08-15     40.5     B"
      ]
     },
     "execution_count": 16,
     "metadata": {},
     "output_type": "execute_result"
    }
   ],
   "source": [
    "df_o.head()"
   ]
  },
  {
   "cell_type": "code",
   "execution_count": 17,
   "id": "9fe6a850",
   "metadata": {},
   "outputs": [
    {
     "name": "stdout",
     "output_type": "stream",
     "text": [
      "<class 'pandas.core.frame.DataFrame'>\n",
      "RangeIndex: 1197 entries, 0 to 1196\n",
      "Data columns (total 5 columns):\n",
      " #   Column         Non-Null Count  Dtype  \n",
      "---  ------         --------------  -----  \n",
      " 0   transactionId  1197 non-null   int64  \n",
      " 1   visitorId      1197 non-null   int64  \n",
      " 2   date           1197 non-null   object \n",
      " 3   revenue        1197 non-null   float64\n",
      " 4   group          1197 non-null   object \n",
      "dtypes: float64(1), int64(2), object(2)\n",
      "memory usage: 46.9+ KB\n"
     ]
    }
   ],
   "source": [
    "df_o.info()"
   ]
  },
  {
   "cell_type": "code",
   "execution_count": 18,
   "id": "3f60fc4b",
   "metadata": {
    "scrolled": true
   },
   "outputs": [
    {
     "data": {
      "text/html": [
       "<div>\n",
       "<style scoped>\n",
       "    .dataframe tbody tr th:only-of-type {\n",
       "        vertical-align: middle;\n",
       "    }\n",
       "\n",
       "    .dataframe tbody tr th {\n",
       "        vertical-align: top;\n",
       "    }\n",
       "\n",
       "    .dataframe thead th {\n",
       "        text-align: right;\n",
       "    }\n",
       "</style>\n",
       "<table border=\"1\" class=\"dataframe\">\n",
       "  <thead>\n",
       "    <tr style=\"text-align: right;\">\n",
       "      <th></th>\n",
       "      <th>transactionId</th>\n",
       "      <th>visitorId</th>\n",
       "      <th>revenue</th>\n",
       "    </tr>\n",
       "  </thead>\n",
       "  <tbody>\n",
       "    <tr>\n",
       "      <th>count</th>\n",
       "      <td>1.197000e+03</td>\n",
       "      <td>1.197000e+03</td>\n",
       "      <td>1197.000000</td>\n",
       "    </tr>\n",
       "    <tr>\n",
       "      <th>mean</th>\n",
       "      <td>2.155621e+09</td>\n",
       "      <td>2.165960e+09</td>\n",
       "      <td>131.491646</td>\n",
       "    </tr>\n",
       "    <tr>\n",
       "      <th>std</th>\n",
       "      <td>1.229085e+09</td>\n",
       "      <td>1.236014e+09</td>\n",
       "      <td>603.004729</td>\n",
       "    </tr>\n",
       "    <tr>\n",
       "      <th>min</th>\n",
       "      <td>1.062393e+06</td>\n",
       "      <td>5.114589e+06</td>\n",
       "      <td>5.000000</td>\n",
       "    </tr>\n",
       "    <tr>\n",
       "      <th>25%</th>\n",
       "      <td>1.166776e+09</td>\n",
       "      <td>1.111826e+09</td>\n",
       "      <td>20.800000</td>\n",
       "    </tr>\n",
       "    <tr>\n",
       "      <th>50%</th>\n",
       "      <td>2.145194e+09</td>\n",
       "      <td>2.217985e+09</td>\n",
       "      <td>50.200000</td>\n",
       "    </tr>\n",
       "    <tr>\n",
       "      <th>75%</th>\n",
       "      <td>3.237740e+09</td>\n",
       "      <td>3.177606e+09</td>\n",
       "      <td>130.400000</td>\n",
       "    </tr>\n",
       "    <tr>\n",
       "      <th>max</th>\n",
       "      <td>4.293856e+09</td>\n",
       "      <td>4.283872e+09</td>\n",
       "      <td>19920.400000</td>\n",
       "    </tr>\n",
       "  </tbody>\n",
       "</table>\n",
       "</div>"
      ],
      "text/plain": [
       "       transactionId     visitorId       revenue\n",
       "count   1.197000e+03  1.197000e+03   1197.000000\n",
       "mean    2.155621e+09  2.165960e+09    131.491646\n",
       "std     1.229085e+09  1.236014e+09    603.004729\n",
       "min     1.062393e+06  5.114589e+06      5.000000\n",
       "25%     1.166776e+09  1.111826e+09     20.800000\n",
       "50%     2.145194e+09  2.217985e+09     50.200000\n",
       "75%     3.237740e+09  3.177606e+09    130.400000\n",
       "max     4.293856e+09  4.283872e+09  19920.400000"
      ]
     },
     "execution_count": 18,
     "metadata": {},
     "output_type": "execute_result"
    }
   ],
   "source": [
    "df_o.describe()"
   ]
  },
  {
   "cell_type": "markdown",
   "id": "db9fc4f2",
   "metadata": {},
   "source": [
    "Atenção ao valor máximo absurdo da coluna 'revenue'"
   ]
  },
  {
   "cell_type": "markdown",
   "id": "2ebcafaa",
   "metadata": {},
   "source": [
    "#### Ajustando valores com tipo incorreto:"
   ]
  },
  {
   "cell_type": "code",
   "execution_count": 19,
   "id": "926bec6a",
   "metadata": {},
   "outputs": [],
   "source": [
    "df_v['date']=pd.to_datetime(df_v['date'], format='%Y-%m-%d')"
   ]
  },
  {
   "cell_type": "code",
   "execution_count": 20,
   "id": "79a8fd64",
   "metadata": {},
   "outputs": [],
   "source": [
    "df_o['date']=pd.to_datetime(df_o['date'], format='%Y-%m-%d')"
   ]
  },
  {
   "cell_type": "markdown",
   "id": "0989a2cb",
   "metadata": {},
   "source": [
    "#### Dando uma olhada geral nos grupos:"
   ]
  },
  {
   "cell_type": "code",
   "execution_count": 21,
   "id": "e7c444b8",
   "metadata": {},
   "outputs": [
    {
     "data": {
      "text/plain": [
       "<AxesSubplot:xlabel='group'>"
      ]
     },
     "execution_count": 21,
     "metadata": {},
     "output_type": "execute_result"
    },
    {
     "data": {
      "image/png": "[encoded data removed]",
      "text/plain": [
       "<Figure size 640x480 with 1 Axes>"
      ]
     },
     "metadata": {},
     "output_type": "display_data"
    },
    {
     "data": {
      "image/png": "[encoded data removed]",
      "text/plain": [
       "<Figure size 640x480 with 1 Axes>"
      ]
     },
     "metadata": {},
     "output_type": "display_data"
    }
   ],
   "source": [
    "(df_o.pivot_table(index='group', values='revenue', aggfunc='sum')).plot(kind='bar')\n",
    "(df_o.pivot_table(index='group', values='revenue', aggfunc='mean')).plot(kind='bar')"
   ]
  },
  {
   "cell_type": "markdown",
   "id": "96cbd910",
   "metadata": {},
   "source": [
    "#### A soma e médias dos grupos são maiores para a população B, até agora..."
   ]
  },
  {
   "cell_type": "code",
   "execution_count": 22,
   "id": "63567dd9",
   "metadata": {},
   "outputs": [],
   "source": [
    "df_o['conversion']=df_v['date']-df_o['date'].min()"
   ]
  },
  {
   "cell_type": "code",
   "execution_count": 23,
   "id": "20df536c",
   "metadata": {},
   "outputs": [],
   "source": [
    "# Agrupando as informações por dia e grupo\n",
    "grouped_orders = df_o.groupby([\"date\", \"group\"]).agg({\"transactionId\": \"count\", 'revenue':'sum'})\n",
    "grouped_visits = df_v.groupby([\"date\", \"group\"]).agg({\"visits\": \"sum\"})\n"
   ]
  },
  {
   "cell_type": "code",
   "execution_count": 24,
   "id": "d14483cc",
   "metadata": {},
   "outputs": [],
   "source": [
    "# Combinando as informações agrupadas\n",
    "merged = grouped_orders.merge(grouped_visits, on=[\"date\", \"group\"])\n",
    "\n",
    "# Calculando a taxa de conversão\n",
    "merged[\"conversion_rate\"] = merged[\"transactionId\"] / merged[\"visits\"]"
   ]
  },
  {
   "cell_type": "code",
   "execution_count": 25,
   "id": "e3222c00",
   "metadata": {
    "scrolled": true
   },
   "outputs": [
    {
     "data": {
      "text/html": [
       "<div>\n",
       "<style scoped>\n",
       "    .dataframe tbody tr th:only-of-type {\n",
       "        vertical-align: middle;\n",
       "    }\n",
       "\n",
       "    .dataframe tbody tr th {\n",
       "        vertical-align: top;\n",
       "    }\n",
       "\n",
       "    .dataframe thead th {\n",
       "        text-align: right;\n",
       "    }\n",
       "</style>\n",
       "<table border=\"1\" class=\"dataframe\">\n",
       "  <thead>\n",
       "    <tr style=\"text-align: right;\">\n",
       "      <th></th>\n",
       "      <th></th>\n",
       "      <th>transactionId</th>\n",
       "      <th>revenue</th>\n",
       "      <th>visits</th>\n",
       "      <th>conversion_rate</th>\n",
       "    </tr>\n",
       "    <tr>\n",
       "      <th>date</th>\n",
       "      <th>group</th>\n",
       "      <th></th>\n",
       "      <th></th>\n",
       "      <th></th>\n",
       "      <th></th>\n",
       "    </tr>\n",
       "  </thead>\n",
       "  <tbody>\n",
       "    <tr>\n",
       "      <th rowspan=\"2\" valign=\"top\">2019-08-01</th>\n",
       "      <th>A</th>\n",
       "      <td>24</td>\n",
       "      <td>2356.8</td>\n",
       "      <td>719</td>\n",
       "      <td>0.033380</td>\n",
       "    </tr>\n",
       "    <tr>\n",
       "      <th>B</th>\n",
       "      <td>21</td>\n",
       "      <td>1620.0</td>\n",
       "      <td>713</td>\n",
       "      <td>0.029453</td>\n",
       "    </tr>\n",
       "    <tr>\n",
       "      <th rowspan=\"2\" valign=\"top\">2019-08-02</th>\n",
       "      <th>A</th>\n",
       "      <td>20</td>\n",
       "      <td>1503.5</td>\n",
       "      <td>619</td>\n",
       "      <td>0.032310</td>\n",
       "    </tr>\n",
       "    <tr>\n",
       "      <th>B</th>\n",
       "      <td>24</td>\n",
       "      <td>2623.8</td>\n",
       "      <td>581</td>\n",
       "      <td>0.041308</td>\n",
       "    </tr>\n",
       "    <tr>\n",
       "      <th>2019-08-03</th>\n",
       "      <th>A</th>\n",
       "      <td>24</td>\n",
       "      <td>1815.2</td>\n",
       "      <td>507</td>\n",
       "      <td>0.047337</td>\n",
       "    </tr>\n",
       "    <tr>\n",
       "      <th>...</th>\n",
       "      <th>...</th>\n",
       "      <td>...</td>\n",
       "      <td>...</td>\n",
       "      <td>...</td>\n",
       "      <td>...</td>\n",
       "    </tr>\n",
       "    <tr>\n",
       "      <th>2019-08-29</th>\n",
       "      <th>B</th>\n",
       "      <td>20</td>\n",
       "      <td>3623.7</td>\n",
       "      <td>531</td>\n",
       "      <td>0.037665</td>\n",
       "    </tr>\n",
       "    <tr>\n",
       "      <th rowspan=\"2\" valign=\"top\">2019-08-30</th>\n",
       "      <th>A</th>\n",
       "      <td>11</td>\n",
       "      <td>1364.3</td>\n",
       "      <td>490</td>\n",
       "      <td>0.022449</td>\n",
       "    </tr>\n",
       "    <tr>\n",
       "      <th>B</th>\n",
       "      <td>24</td>\n",
       "      <td>3393.3</td>\n",
       "      <td>490</td>\n",
       "      <td>0.048980</td>\n",
       "    </tr>\n",
       "    <tr>\n",
       "      <th rowspan=\"2\" valign=\"top\">2019-08-31</th>\n",
       "      <th>A</th>\n",
       "      <td>12</td>\n",
       "      <td>991.4</td>\n",
       "      <td>699</td>\n",
       "      <td>0.017167</td>\n",
       "    </tr>\n",
       "    <tr>\n",
       "      <th>B</th>\n",
       "      <td>20</td>\n",
       "      <td>2104.3</td>\n",
       "      <td>718</td>\n",
       "      <td>0.027855</td>\n",
       "    </tr>\n",
       "  </tbody>\n",
       "</table>\n",
       "<p>62 rows × 4 columns</p>\n",
       "</div>"
      ],
      "text/plain": [
       "                  transactionId  revenue  visits  conversion_rate\n",
       "date       group                                                 \n",
       "2019-08-01 A                 24   2356.8     719         0.033380\n",
       "           B                 21   1620.0     713         0.029453\n",
       "2019-08-02 A                 20   1503.5     619         0.032310\n",
       "           B                 24   2623.8     581         0.041308\n",
       "2019-08-03 A                 24   1815.2     507         0.047337\n",
       "...                         ...      ...     ...              ...\n",
       "2019-08-29 B                 20   3623.7     531         0.037665\n",
       "2019-08-30 A                 11   1364.3     490         0.022449\n",
       "           B                 24   3393.3     490         0.048980\n",
       "2019-08-31 A                 12    991.4     699         0.017167\n",
       "           B                 20   2104.3     718         0.027855\n",
       "\n",
       "[62 rows x 4 columns]"
      ]
     },
     "metadata": {},
     "output_type": "display_data"
    }
   ],
   "source": [
    "display(merged)\n",
    "merged=merged.reset_index()"
   ]
  },
  {
   "cell_type": "markdown",
   "id": "2647cd42",
   "metadata": {},
   "source": [
    "#### Plotando gráfico comparando a taxa de conversão entre os grupos."
   ]
  },
  {
   "cell_type": "code",
   "execution_count": 26,
   "id": "28fdcb59",
   "metadata": {
    "scrolled": true
   },
   "outputs": [
    {
     "data": {
      "image/png": "[encoded data removed]",
      "text/plain": [
       "<Figure size 1000x500 with 1 Axes>"
      ]
     },
     "metadata": {},
     "output_type": "display_data"
    }
   ],
   "source": [
    "grouped = merged.groupby(['date', 'group'])['conversion_rate'].mean().reset_index()\n",
    "plt.figure(figsize=(10, 5))\n",
    "for key, grp in grouped.groupby('group'):\n",
    "    plt.plot(grp['date'], grp['conversion_rate'], label=key)\n",
    "plt.xlabel('Data')\n",
    "plt.ylabel('Taxa de Conversão')\n",
    "plt.title('Taxa de Conversão Agrupada por Data e Grupo')\n",
    "plt.legend()\n",
    "plt.show()"
   ]
  },
  {
   "cell_type": "markdown",
   "id": "26f82bdc",
   "metadata": {},
   "source": [
    "Vamos fazer a soma cumulativa para obtever mais informações, já que o gráfico dessa maneira não nos mostra muita coisa."
   ]
  },
  {
   "cell_type": "code",
   "execution_count": 27,
   "id": "ee0435ef",
   "metadata": {
    "scrolled": false
   },
   "outputs": [],
   "source": [
    "# junta os dois dataframes com base na coluna \"date\"\n",
    "merged_df = pd.merge(df_o, df_v, on=[\"date\", 'group'], how=\"left\")\n",
    "# agrupa o dataframe pela coluna \"date\" e \"group\"\n",
    "grouped_df = merged_df.groupby([\"date\", \"group\"]).agg({\"revenue\": \"sum\", \"visits\": \"sum\", 'visitorId': 'nunique', 'transactionId':'nunique'})"
   ]
  },
  {
   "cell_type": "code",
   "execution_count": 28,
   "id": "4e3326aa",
   "metadata": {},
   "outputs": [
    {
     "data": {
      "text/html": [
       "<div>\n",
       "<style scoped>\n",
       "    .dataframe tbody tr th:only-of-type {\n",
       "        vertical-align: middle;\n",
       "    }\n",
       "\n",
       "    .dataframe tbody tr th {\n",
       "        vertical-align: top;\n",
       "    }\n",
       "\n",
       "    .dataframe thead th {\n",
       "        text-align: right;\n",
       "    }\n",
       "</style>\n",
       "<table border=\"1\" class=\"dataframe\">\n",
       "  <thead>\n",
       "    <tr style=\"text-align: right;\">\n",
       "      <th></th>\n",
       "      <th>date</th>\n",
       "      <th>group</th>\n",
       "      <th>mean_conversion</th>\n",
       "      <th>cumulative_b</th>\n",
       "      <th>cumulative_a</th>\n",
       "    </tr>\n",
       "  </thead>\n",
       "  <tbody>\n",
       "    <tr>\n",
       "      <th>0</th>\n",
       "      <td>2019-08-01</td>\n",
       "      <td>A</td>\n",
       "      <td>0.136579</td>\n",
       "      <td>NaN</td>\n",
       "      <td>0.136579</td>\n",
       "    </tr>\n",
       "    <tr>\n",
       "      <th>1</th>\n",
       "      <td>2019-08-01</td>\n",
       "      <td>B</td>\n",
       "      <td>0.108195</td>\n",
       "      <td>0.108195</td>\n",
       "      <td>NaN</td>\n",
       "    </tr>\n",
       "    <tr>\n",
       "      <th>2</th>\n",
       "      <td>2019-08-02</td>\n",
       "      <td>A</td>\n",
       "      <td>0.121446</td>\n",
       "      <td>NaN</td>\n",
       "      <td>0.258024</td>\n",
       "    </tr>\n",
       "    <tr>\n",
       "      <th>3</th>\n",
       "      <td>2019-08-02</td>\n",
       "      <td>B</td>\n",
       "      <td>0.188167</td>\n",
       "      <td>0.296362</td>\n",
       "      <td>NaN</td>\n",
       "    </tr>\n",
       "    <tr>\n",
       "      <th>4</th>\n",
       "      <td>2019-08-03</td>\n",
       "      <td>A</td>\n",
       "      <td>0.149178</td>\n",
       "      <td>NaN</td>\n",
       "      <td>0.407203</td>\n",
       "    </tr>\n",
       "    <tr>\n",
       "      <th>...</th>\n",
       "      <td>...</td>\n",
       "      <td>...</td>\n",
       "      <td>...</td>\n",
       "      <td>...</td>\n",
       "      <td>...</td>\n",
       "    </tr>\n",
       "    <tr>\n",
       "      <th>57</th>\n",
       "      <td>2019-08-29</td>\n",
       "      <td>B</td>\n",
       "      <td>0.341215</td>\n",
       "      <td>7.535500</td>\n",
       "      <td>NaN</td>\n",
       "    </tr>\n",
       "    <tr>\n",
       "      <th>58</th>\n",
       "      <td>2019-08-30</td>\n",
       "      <td>A</td>\n",
       "      <td>0.253117</td>\n",
       "      <td>NaN</td>\n",
       "      <td>6.120758</td>\n",
       "    </tr>\n",
       "    <tr>\n",
       "      <th>59</th>\n",
       "      <td>2019-08-30</td>\n",
       "      <td>B</td>\n",
       "      <td>0.288546</td>\n",
       "      <td>7.824046</td>\n",
       "      <td>NaN</td>\n",
       "    </tr>\n",
       "    <tr>\n",
       "      <th>60</th>\n",
       "      <td>2019-08-31</td>\n",
       "      <td>A</td>\n",
       "      <td>0.118193</td>\n",
       "      <td>NaN</td>\n",
       "      <td>6.238950</td>\n",
       "    </tr>\n",
       "    <tr>\n",
       "      <th>61</th>\n",
       "      <td>2019-08-31</td>\n",
       "      <td>B</td>\n",
       "      <td>0.146539</td>\n",
       "      <td>7.970585</td>\n",
       "      <td>NaN</td>\n",
       "    </tr>\n",
       "  </tbody>\n",
       "</table>\n",
       "<p>62 rows × 5 columns</p>\n",
       "</div>"
      ],
      "text/plain": [
       "         date group  mean_conversion  cumulative_b  cumulative_a\n",
       "0  2019-08-01     A         0.136579           NaN      0.136579\n",
       "1  2019-08-01     B         0.108195      0.108195           NaN\n",
       "2  2019-08-02     A         0.121446           NaN      0.258024\n",
       "3  2019-08-02     B         0.188167      0.296362           NaN\n",
       "4  2019-08-03     A         0.149178           NaN      0.407203\n",
       "..        ...   ...              ...           ...           ...\n",
       "57 2019-08-29     B         0.341215      7.535500           NaN\n",
       "58 2019-08-30     A         0.253117           NaN      6.120758\n",
       "59 2019-08-30     B         0.288546      7.824046           NaN\n",
       "60 2019-08-31     A         0.118193           NaN      6.238950\n",
       "61 2019-08-31     B         0.146539      7.970585           NaN\n",
       "\n",
       "[62 rows x 5 columns]"
      ]
     },
     "metadata": {},
     "output_type": "display_data"
    }
   ],
   "source": [
    "# calcula a taxa de conversão para cada grupo\n",
    "grouped_df[\"conversion\"] = grouped_df[\"revenue\"] / grouped_df[\"visits\"]\n",
    "# agrupa novamente pelo dia\n",
    "grouped_df = grouped_df.reset_index().groupby([\"date\", 'group']).agg({\"conversion\": [\"mean\"]})\n",
    "\n",
    "# renomeia a coluna de conversão para \"mean_conversion\"\n",
    "grouped_df.columns = [\"mean_conversion\"]\n",
    "# calcula a diferença relativa na conversão cumulativa para o grupo B\n",
    "grouped_df=grouped_df.reset_index()\n",
    "grouped_df[\"cumulative_b\"] = grouped_df.loc[grouped_df[\"group\"] == \"B\", \"mean_conversion\"].cumsum()\n",
    "grouped_df[\"cumulative_a\"] = grouped_df.loc[grouped_df[\"group\"] == \"A\", \"mean_conversion\"].cumsum()\n",
    "display(grouped_df)"
   ]
  },
  {
   "cell_type": "code",
   "execution_count": 29,
   "id": "38fcb6a3",
   "metadata": {},
   "outputs": [
    {
     "data": {
      "image/png": "[encoded data removed]",
      "text/plain": [
       "<Figure size 640x480 with 1 Axes>"
      ]
     },
     "metadata": {},
     "output_type": "display_data"
    },
    {
     "data": {
      "text/plain": [
       "<Figure size 1000x500 with 0 Axes>"
      ]
     },
     "metadata": {},
     "output_type": "display_data"
    }
   ],
   "source": [
    "grouped_cum = grouped_df.groupby('date')[['cumulative_a', 'cumulative_b']].sum()\n",
    "# Plotagem dos dados\n",
    "grouped_cum=grouped_cum.reset_index()\n",
    "plt.plot(grouped_cum['date'], grouped_cum['cumulative_a'], label='Group A')\n",
    "plt.plot(grouped_cum['date'], grouped_cum['cumulative_b'], label='Group B')\n",
    "\n",
    "# Adicionando legenda e rótulo dos eixos\n",
    "plt.legend()\n",
    "plt.title('Soma cumulativa da taxa de conversão por grupo')\n",
    "plt.xlabel('Time')\n",
    "plt.ylabel('Cumulative Conversion')\n",
    "plt.figure(figsize=(10, 5))\n",
    "\n",
    "\n",
    "plt.show()"
   ]
  },
  {
   "cell_type": "markdown",
   "id": "71441572",
   "metadata": {},
   "source": [
    "#### Calculando os percentis para procurar valores atípicos."
   ]
  },
  {
   "cell_type": "code",
   "execution_count": 30,
   "id": "f283fe77",
   "metadata": {},
   "outputs": [
    {
     "ename": "NameError",
     "evalue": "name 'pv_count' is not defined",
     "output_type": "error",
     "traceback": [
      "\u001b[1;31m---------------------------------------------------------------------------\u001b[0m",
      "\u001b[1;31mNameError\u001b[0m                                 Traceback (most recent call last)",
      "Cell \u001b[1;32mIn [30], line 1\u001b[0m\n\u001b[1;32m----> 1\u001b[0m \u001b[43mpv_count\u001b[49m[\u001b[38;5;124m'\u001b[39m\u001b[38;5;124mrevenue\u001b[39m\u001b[38;5;124m'\u001b[39m]\u001b[38;5;241m.\u001b[39mquantile(\u001b[38;5;241m0.95\u001b[39m)\n",
      "\u001b[1;31mNameError\u001b[0m: name 'pv_count' is not defined"
     ]
    }
   ],
   "source": [
    "pv_count['revenue'].quantile(0.95)"
   ]
  },
  {
   "cell_type": "code",
   "execution_count": null,
   "id": "43acf85b",
   "metadata": {},
   "outputs": [],
   "source": [
    "pv_count['revenue'].quantile(0.99)"
   ]
  },
  {
   "cell_type": "code",
   "execution_count": null,
   "id": "1cf7ac44",
   "metadata": {},
   "outputs": [],
   "source": [
    "plt.scatter(df_o[\"date\"], df_o[\"revenue\"])\n"
   ]
  },
  {
   "cell_type": "code",
   "execution_count": null,
   "id": "2a49d074",
   "metadata": {},
   "outputs": [],
   "source": [
    "df_o['revenue'].quantile(0.99)"
   ]
  },
  {
   "cell_type": "code",
   "execution_count": null,
   "id": "50057963",
   "metadata": {},
   "outputs": [],
   "source": [
    "pv_count=df_o.pivot_table(index='visitorId', values='revenue', aggfunc='count')"
   ]
  },
  {
   "cell_type": "markdown",
   "id": "2b5648c0",
   "metadata": {},
   "source": [
    "#### Para encontrar a significância estatística da diferença na conversão entre os grupos usando os dados brutos, vou usar uma teste estatístico t Student para amostras independentes. Este teste comparará a média de conversões para cada grupo e determinará se a diferença entre as médias é estatisticamente significativa ou se pode ser explicada por acaso."
   ]
  },
  {
   "cell_type": "code",
   "execution_count": null,
   "id": "56ae35a4",
   "metadata": {},
   "outputs": [],
   "source": [
    "# comparar as médias das duas amostras. A hipótese nula será que as médias são iguais, e a hipótese alternativa será que são diferentes. Para realizar o teste, você pode usar o teste t-Student.\n",
    "group_a=grouped_cum['cumulative_a']\n",
    "group_b=grouped_cum['cumulative_b']"
   ]
  },
  {
   "cell_type": "code",
   "execution_count": null,
   "id": "f27031e0",
   "metadata": {},
   "outputs": [],
   "source": [
    "grouped_cum"
   ]
  },
  {
   "cell_type": "code",
   "execution_count": null,
   "id": "1e3809e0",
   "metadata": {
    "scrolled": false
   },
   "outputs": [],
   "source": [
    "alpha = 0.05\n",
    "\n",
    "results = st.shapiro(grouped_cum['cumulative_a'])\n",
    "p_value = results[1]\n",
    "\n",
    "print('p-value: ', p_value)\n",
    "\n",
    "if p_value<alpha:\n",
    "    print(\"Hipótese nula rejeitada: a distribuição não é normal\")\n",
    "else:\n",
    "    print(\"Falha ao rejeitar a hipótese nula: a distribuição parece ser normal (A)\")\n",
    "    \n",
    "results = st.shapiro(grouped_cum['cumulative_b'])\n",
    "p_value = results[1]\n",
    "\n",
    "print('p-value: ', p_value)\n",
    "\n",
    "if p_value<alpha:\n",
    "    print(\"Hipótese nula rejeitada: a distribuição não é normal\")\n",
    "else:\n",
    "    print(\"Falha ao rejeitar a hipótese nula: a distribuição parece ser normal (B)\")"
   ]
  },
  {
   "cell_type": "markdown",
   "id": "1efb9564",
   "metadata": {},
   "source": [
    "Usando mannwhitneyu, mais aceito para distribuição não normais."
   ]
  },
  {
   "cell_type": "code",
   "execution_count": null,
   "id": "ef0f9740",
   "metadata": {},
   "outputs": [],
   "source": [
    "results = st.mannwhitneyu( grouped_cum['cumulative_a'], grouped_cum['cumulative_b'], True, 'less')\n",
    "print('p-value: ', results.pvalue)\n",
    "\n",
    "if results.pvalue < alpha:\n",
    "    print(\"Hipótese nula rejeitada: a diferença possui significância estatística\")\n",
    "else:\n",
    "    print(\"Falha a rejeitar a hipótese nula: não é possível chegar a conclusões sobre a diferença\") "
   ]
  },
  {
   "cell_type": "markdown",
   "id": "dccccbaa",
   "metadata": {},
   "source": [
    "## Agrupando pedidos para calcular o volume"
   ]
  },
  {
   "cell_type": "code",
   "execution_count": null,
   "id": "06be06b2",
   "metadata": {},
   "outputs": [],
   "source": [
    "merged = grouped_orders.merge(grouped_visits, on=[\"date\", 'group'])"
   ]
  },
  {
   "cell_type": "code",
   "execution_count": null,
   "id": "f4a00e97",
   "metadata": {
    "scrolled": true
   },
   "outputs": [],
   "source": [
    "merged"
   ]
  },
  {
   "cell_type": "code",
   "execution_count": null,
   "id": "ca2c47f5",
   "metadata": {},
   "outputs": [],
   "source": [
    "merged['volume']=merged['revenue']/merged['visits']"
   ]
  },
  {
   "cell_type": "code",
   "execution_count": null,
   "id": "fb29324b",
   "metadata": {
    "scrolled": true
   },
   "outputs": [],
   "source": [
    "merged=merged.reset_index()\n"
   ]
  },
  {
   "cell_type": "markdown",
   "id": "d8ce2ba0",
   "metadata": {},
   "source": [
    "Separando as populações para fazer teste estatístico."
   ]
  },
  {
   "cell_type": "code",
   "execution_count": null,
   "id": "8c2efe3e",
   "metadata": {},
   "outputs": [],
   "source": [
    "volume_a=merged.loc[merged['group']=='A', 'volume']\n",
    "volume_b=merged.loc[merged['group']=='B', 'volume']"
   ]
  },
  {
   "cell_type": "code",
   "execution_count": null,
   "id": "7a1a69b0",
   "metadata": {
    "scrolled": false
   },
   "outputs": [],
   "source": [
    "\n",
    "results = st.shapiro(volume_a)\n",
    "p_value = results[1]\n",
    "\n",
    "print('p-value: ', p_value)\n",
    "\n",
    "\n",
    "if p_value<alpha:\n",
    "    print(\"Hipótese nula rejeitada: a distribuição não é normal\")\n",
    "else:\n",
    "    print(\"Falha ao rejeitar a hipótese nula: a distribuição parece ser normal (A)\")\n",
    "    \n",
    "results = st.shapiro(volume_b)\n",
    "p_value = results[1]\n",
    "\n",
    "print('p-value: ', p_value)\n",
    "\n",
    "if p_value<alpha:\n",
    "    print(\"Hipótese nula rejeitada: a distribuição não é normal\")\n",
    "else:\n",
    "    print(\"Falha ao rejeitar a hipótese nula: a distribuição parece ser normal (B)\")"
   ]
  },
  {
   "cell_type": "markdown",
   "id": "ef000ca6",
   "metadata": {},
   "source": [
    "Como as distribuições não são normais usaremos o teste U de Mann-Whitney:"
   ]
  },
  {
   "cell_type": "code",
   "execution_count": null,
   "id": "3146664d",
   "metadata": {},
   "outputs": [],
   "source": [
    "results = st.mannwhitneyu( volume_b, volume_a, True, 'less')\n",
    "\n",
    "print('p-value: ', results.pvalue)\n",
    "\n",
    "if results.pvalue < alpha:\n",
    "    print(\"Hipótese nula rejeitada: a diferença possui significância estatística\")\n",
    "else:\n",
    "    print(\"Falha a rejeitar a hipótese nula: não é possível chegar a conclusões sobre a diferença\") "
   ]
  },
  {
   "cell_type": "code",
   "execution_count": null,
   "id": "2b4fbcc8",
   "metadata": {},
   "outputs": [],
   "source": [
    "\n",
    "merged = grouped_orders.merge(grouped_visits, on=[\"date\", \"group\"])\n",
    "merged=merged.reset_index()\n",
    "# Calculando a taxa de volume\n",
    "merged['volume']=merged['revenue']/merged['visits']\n",
    "merged[\"cum_vol_b\"] = merged.loc[merged[\"group\"] == \"B\", \"volume\"].cumsum()\n",
    "merged[\"cum_vol_a\"] = merged.loc[merged[\"group\"] == \"A\", \"volume\"].cumsum()\n",
    "merged_vol = merged.groupby('date')[['cum_vol_a', 'cum_vol_b']].sum()\n",
    "# Plotagem dos dados\n",
    "merged_vol=merged_vol.reset_index()\n",
    "plt.plot(merged_vol['date'], merged_vol['cum_vol_a'], label='Group A')\n",
    "plt.plot(merged_vol['date'], merged_vol['cum_vol_b'], label='Group B')\n",
    "\n",
    "# Adicionando legenda e rótulo dos eixos\n",
    "plt.legend()\n",
    "plt.title('Soma cumulativa do volume')\n",
    "plt.xlabel('Time')\n",
    "plt.ylabel('Cumulative Volume')\n",
    "\n",
    "# Exibindo o gráfico\n",
    "plt.show()"
   ]
  },
  {
   "cell_type": "code",
   "execution_count": null,
   "id": "9dc2c3fb",
   "metadata": {
    "scrolled": true
   },
   "outputs": [],
   "source": [
    "# Gráfico de diferença relativa da conversão das duas populações:\n",
    "plt.figure(figsize=(10, 5))\n",
    "plt.title('Diferença relativa da conversão das duas populações')\n",
    "plt.plot(grouped_cum['date'], grouped_cum['cumulative_b']/grouped_cum['cumulative_a']-1)\n",
    "plt.axhline(y=0, color='black', linestyle='--')\n",
    "plt.axhline(y=0.2, color='grey', linestyle='--')\n"
   ]
  },
  {
   "cell_type": "code",
   "execution_count": null,
   "id": "64e189be",
   "metadata": {},
   "outputs": [],
   "source": [
    "plt.figure(figsize=(10, 5))\n",
    "\n",
    "plt.plot(merged_vol['date'], merged_vol['cum_vol_b']/merged_vol['cum_vol_a']-1)\n",
    "plt.axhline(y=0, color='black', linestyle='--')\n",
    "plt.axhline(y=0.2, color='grey', linestyle='--')\n",
    "plt.title('Diferença da soma do volume cumulativo')"
   ]
  },
  {
   "cell_type": "markdown",
   "id": "79e7ab8a",
   "metadata": {},
   "source": [
    "## Filtrando amostra:"
   ]
  },
  {
   "cell_type": "code",
   "execution_count": null,
   "id": "de738ed5",
   "metadata": {},
   "outputs": [],
   "source": [
    "df_o.describe()"
   ]
  },
  {
   "cell_type": "code",
   "execution_count": null,
   "id": "efb48c18",
   "metadata": {},
   "outputs": [],
   "source": [
    "df_o=df_o[df_o['revenue']<1000] "
   ]
  },
  {
   "cell_type": "markdown",
   "id": "11d38887",
   "metadata": {},
   "source": [
    "Filtrada com base no describe e percentis."
   ]
  },
  {
   "cell_type": "markdown",
   "id": "e6ee3324",
   "metadata": {},
   "source": [
    "# Comparando amostras filtradas e não filtradas"
   ]
  },
  {
   "cell_type": "markdown",
   "id": "9ead9d3e",
   "metadata": {},
   "source": [
    "### Plotando gráfico com dados antigos e novos"
   ]
  },
  {
   "cell_type": "code",
   "execution_count": null,
   "id": "83ebbab2",
   "metadata": {},
   "outputs": [],
   "source": [
    "grouped_cum = grouped_df.groupby('date')[['cumulative_a', 'cumulative_b']].sum()\n",
    "grouped_cum=grouped_cum.reset_index()\n"
   ]
  },
  {
   "cell_type": "code",
   "execution_count": null,
   "id": "cd9c261d",
   "metadata": {
    "scrolled": false
   },
   "outputs": [],
   "source": [
    "plt.figure(figsize=(10, 5))\n",
    "\n",
    "plt.plot(grouped_cum['date'], grouped_cum['cumulative_a'], label='Group A')\n",
    "plt.plot(grouped_cum['date'], grouped_cum['cumulative_b'], label='Group B')\n",
    "\n",
    "# Adicionando legenda e rótulo dos eixos\n",
    "\n",
    "plt.legend()\n",
    "plt.xlabel('Time')\n",
    "plt.ylabel('Cumulative Conversion')\n",
    "plt.figure(figsize=(10, 5))\n",
    "\n",
    "\n",
    "# Exibindo o gráfico\n",
    "plt.show()\n",
    "# Filtrando os dados e plotando novamente o gráfico\n",
    "# junta os dois dataframes com base na coluna \"date\"\n",
    "merged_df = pd.merge(df_o, df_v, on=[\"date\", 'group'], how=\"left\")\n",
    "# agrupa o dataframe pela coluna \"date\" e \"group\"\n",
    "grouped_df = merged_df.groupby([\"date\", \"group\"]).agg({\"revenue\": \"sum\", \"visits\": \"sum\", 'visitorId': 'nunique', 'transactionId':'nunique'})\n",
    "# calcula a taxa de conversão para cada grupo\n",
    "grouped_df[\"conversion\"] = grouped_df[\"revenue\"] / grouped_df[\"visits\"]\n",
    "# agrupa novamente pelo dia\n",
    "grouped_df = grouped_df.reset_index().groupby([\"date\", 'group']).agg({\"conversion\": [\"mean\"]})\n",
    "\n",
    "# renomeia a coluna de conversão para \"mean_conversion\"\n",
    "grouped_df.columns = [\"mean_conversion\"]\n",
    "# calcula a diferença relativa na conversão cumulativa para o grupo B\n",
    "grouped_df=grouped_df.reset_index()\n",
    "grouped_df[\"cumulative_b\"] = grouped_df.loc[grouped_df[\"group\"] == \"B\", \"mean_conversion\"].cumsum()\n",
    "grouped_df[\"cumulative_a\"] = grouped_df.loc[grouped_df[\"group\"] == \"A\", \"mean_conversion\"].cumsum()\n",
    "grouped_cum = grouped_df.groupby('date')[['cumulative_a', 'cumulative_b']].sum()\n",
    "grouped_cum=grouped_cum.reset_index()\n",
    "plt.figure(figsize=(10, 5))\n",
    "\n",
    "plt.plot(grouped_cum['date'], grouped_cum['cumulative_a'], label='Group A')\n",
    "plt.plot(grouped_cum['date'], grouped_cum['cumulative_b'], label='Group B')\n",
    "\n",
    "# Adicionando legenda e rótulo dos eixos\n",
    "plt.legend()\n",
    "plt.xlabel('Time')\n",
    "plt.ylabel('Cumulative Conversion Filtered')\n",
    "plt.figure(figsize=(10, 5))\n",
    "\n",
    "\n",
    "# Exibindo o gráfico\n",
    "plt.show()"
   ]
  },
  {
   "cell_type": "markdown",
   "id": "c1f0c89c",
   "metadata": {},
   "source": [
    "Pode-se observar, como o teste menciou, que os grupos de amostras não possuem diferença significativa entre as populações."
   ]
  },
  {
   "cell_type": "markdown",
   "id": "d26426c2",
   "metadata": {},
   "source": [
    "## Significância estatística da conversão filtrada."
   ]
  },
  {
   "cell_type": "code",
   "execution_count": null,
   "id": "3d27327c",
   "metadata": {},
   "outputs": [],
   "source": [
    "alpha = 0.05\n",
    "\n",
    "results = st.shapiro(grouped_cum['cumulative_a'])\n",
    "p_value = results[1]\n",
    "\n",
    "print('p-value: ', p_value)\n",
    "\n",
    "if p_value<alpha:\n",
    "    print(\"Hipótese nula rejeitada: a distribuição não é normal\")\n",
    "else:\n",
    "    print(\"Falha ao rejeitar a hipótese nula: a distribuição parece ser normal (A)\")\n",
    "    \n",
    "results = st.shapiro(grouped_cum['cumulative_b'])\n",
    "p_value = results[1]\n",
    "\n",
    "print('p-value: ', p_value)\n",
    "\n",
    "if p_value<alpha:\n",
    "    print(\"Hipótese nula rejeitada: a distribuição não é normal\")\n",
    "else:\n",
    "    print(\"Falha ao rejeitar a hipótese nula: a distribuição parece ser normal (B)\")"
   ]
  },
  {
   "cell_type": "markdown",
   "id": "bf828025",
   "metadata": {},
   "source": [
    "### Se os dados são contínuos e as amostras seguem uma distribuição normal, o teste t-test pode ser apropriado. "
   ]
  },
  {
   "cell_type": "markdown",
   "id": "2197b311",
   "metadata": {},
   "source": [
    "O T-test de Student é uma ferramenta estatística que compara a média de uma amostra a uma população ou a outra amostra para determinar se existe uma diferença significativa entre elas. Ele é usado para testar hipóteses sobre a média de uma população quando a variância populacional não é conhecida e a amostra é pequena (geralmente menor que 30). (Nesse caso 31)\n",
    "\n",
    "O teste de T-Student assume que as amostras são distribuídas normalmente, o que pode ser verificado pelo uso de gráficos e testes estatísticos. O resultado do teste é expressado como um valor-t, que representa a diferença entre as médias de duas amostras em unidades de desvio padrão. Se o valor-t for suficientemente alto, a hipótese nula de que as médias são iguais é rejeitada e conclui-se que há uma diferença significativa entre as médias."
   ]
  },
  {
   "cell_type": "code",
   "execution_count": null,
   "id": "5203390b",
   "metadata": {},
   "outputs": [],
   "source": [
    "t, p = stats.ttest_ind(group_a, group_b)"
   ]
  },
  {
   "cell_type": "code",
   "execution_count": null,
   "id": "43c99edd",
   "metadata": {},
   "outputs": [],
   "source": [
    "alpha=.05"
   ]
  },
  {
   "cell_type": "code",
   "execution_count": null,
   "id": "ff2e459c",
   "metadata": {
    "scrolled": false
   },
   "outputs": [],
   "source": [
    "if p < alpha:\n",
    "    print(\"Rejeitamos a hipótese nula, logo as populações possuem médias de notas significativamente diferentes.\")\n",
    "else:\n",
    "    print(\"Nós não podemos rejeitar a hipótese nula, logo, as populações do grupo A e do grupo B não diferem significativamente em suas razões cumulativas de receita por usuários.\") "
   ]
  },
  {
   "cell_type": "code",
   "execution_count": null,
   "id": "fb257313",
   "metadata": {
    "scrolled": false
   },
   "outputs": [],
   "source": [
    "plt.figure(figsize=(10, 5))\n",
    "\n",
    "plt.plot(merged_vol['date'], merged_vol['cum_vol_a'], label='Group A')\n",
    "plt.plot(merged_vol['date'], merged_vol['cum_vol_b'], label='Group B')\n",
    "\n",
    "# Adicionando legenda e rótulo dos eixos\n",
    "plt.legend()\n",
    "plt.xlabel('Time')\n",
    "plt.ylabel('Cumulative Conversion')\n",
    "\n",
    "# Exibindo o gráfico\n",
    "plt.show()\n",
    "#Atualizando tabela\n",
    "merged['volume']=merged['revenue']/merged['visits']\n",
    "merged[\"cum_vol_b\"] = merged.loc[merged[\"group\"] == \"B\", \"volume\"].cumsum()\n",
    "merged[\"cum_vol_a\"] = merged.loc[merged[\"group\"] == \"A\", \"volume\"].cumsum()\n",
    "\n",
    "merged_vol = merged.groupby('date')[['cum_vol_a', 'cum_vol_b']].sum()\n",
    "# Plotagem dos dados\n",
    "merged_vol=merged_vol.reset_index()\n",
    "plt.figure(figsize=(10, 5))\n",
    "\n",
    "plt.plot(merged_vol['date'], merged_vol['cum_vol_a'], label='Group A')\n",
    "plt.plot(merged_vol['date'], merged_vol['cum_vol_b'], label='Group B')\n",
    "\n",
    "# Adicionando legenda e rótulo dos eixos\n",
    "plt.legend()\n",
    "plt.xlabel('Time')\n",
    "plt.ylabel('Cumulative Conversion')\n"
   ]
  },
  {
   "cell_type": "code",
   "execution_count": null,
   "id": "7b5975e8",
   "metadata": {},
   "outputs": [],
   "source": [
    "# Gráfico de diferença relativa:\n",
    "plt.figure(figsize=(10, 5))\n",
    "\n",
    "plt.plot(grouped_cum['date'], grouped_cum['cumulative_b']/grouped_cum['cumulative_a']-1)\n",
    "plt.axhline(y=0, color='black', linestyle='--')\n",
    "plt.axhline(y=0.2, color='grey', linestyle='--')\n"
   ]
  },
  {
   "cell_type": "code",
   "execution_count": null,
   "id": "2460a50a",
   "metadata": {},
   "outputs": [],
   "source": [
    "plt.figure(figsize=(10, 5))\n",
    "\n",
    "plt.plot(merged_vol['date'], merged_vol['cum_vol_b']/merged_vol['cum_vol_a']-1)\n",
    "plt.axhline(y=0, color='black', linestyle='--')\n",
    "plt.axhline(y=0.2, color='grey', linestyle='--')\n"
   ]
  },
  {
   "cell_type": "markdown",
   "id": "7092f2c0",
   "metadata": {},
   "source": [
    " Nesta tarefa, especificamente, precisamos verificar se o segundo conjunto de dados é maior e o primeiro menor, para podermos estabelecer o parâmetro como 'less'\n",
    " Como calculado anteriormente, a distribuição de dados não é normal, então usamos man withneyu para calcular a hipótese"
   ]
  },
  {
   "cell_type": "code",
   "execution_count": null,
   "id": "78a7b294",
   "metadata": {},
   "outputs": [],
   "source": [
    "results = st.mannwhitneyu( merged_vol['cum_vol_a'], merged_vol['cum_vol_b'], True, 'less')\n",
    "\n",
    "print('p-value: ', results.pvalue)\n",
    "\n",
    "if results.pvalue < alpha:\n",
    "    print(\"Hipótese nula rejeitada: a diferença possui significância estatística\")\n",
    "else:\n",
    "    print(\"Falha a rejeitar a hipótese nula: não é possível chegar a conclusões sobre a diferença\") "
   ]
  },
  {
   "cell_type": "markdown",
   "id": "9896d4f4",
   "metadata": {},
   "source": [
    "A escolha entre usar o t-test ou o Mann-Whitney U test depende das suposições sobre as distribuições de amostra e da natureza da comparação que você deseja fazer.\n",
    "\n",
    "O t-test é usado quando se espera que as amostras sejam normalmente distribuídas e tenham variâncias homogêneas. Ele também pressupõe que as amostras são independentes entre si. Além disso, o t-test é apropriado para comparações entre médias.\n",
    "\n",
    "Por outro lado, o Mann-Whitney U test é um teste não-paramétrico que não requer que as amostras sejam normalmente distribuídas ou tenham variâncias homogêneas. É apropriado para comparar as distribuições de duas amostras sem supor que as amostras sejam normalmente distribuídas.\n",
    "\n",
    "Mann-Whitney U test pode ser uma opção mais apropriada."
   ]
  },
  {
   "cell_type": "markdown",
   "id": "98b4daa0",
   "metadata": {},
   "source": [
    "# Conclusão\n",
    "\n",
    "## Priorizando hipóteses\n",
    "\n",
    "#### Após a realização da análise de dados e aplicação do método RICE, cheguei à conclusão de que adicionar um formulário de assinatura em todas as páginas da loja online é uma hipótese com potencial de impacto significativo na receita. O cálculo do RICE mostrou que a adição do formulário de assinatura é uma ação com um alto potencial de retorno sobre o investimento. Além disso, os dados coletados e analisados também apontam para uma tendência positiva na conversão dos usuários após a implantação do formulário.\n",
    "\n",
    "## Testando hipóteses\n",
    "\n",
    "### Qual dos grupos produz a maior receita?\n",
    "\n",
    "- Pela análise dos gráficos filtrados, o gráfico de diferença média entre os grupos e o teste estatístico t-student apontou que não há uma diferença significativa entre as médias, em consonância com os novos gráficos. (Antes dos dados serem filtrados outro teste estatístico apontou uma hipótese contrária, em consonância com os antigos gráficos)\n",
    "\n",
    "### Qual dos grupos tem o maior volume de venda?\n",
    "\n",
    "- Pela análise dos gráficos filtrados, o gráfico de diferença média entre os grupos e o teste estatístico teste U de Mann-Whitney apontou que há uma diferença significativa entre as médias, assim como os gráficos provaram que a população B tem uma razão de receita por vendas maior. (Antes dos dados serem filtrados a conclusão foi a mesma)\n",
    "\n",
    "# Qual grupo é mais vantajoso? \n",
    "\n",
    "- Pela análise feita, apesar do grupo B possuir um volume maior por compras, a receita dos dois não possui diferença significativa. Caso a empresa procure por um volume maior (por um motivo não financeiro, já que não gera mais lucro), ela deve focar no grupo B."
   ]
  }
 ],
 "metadata": {
  "kernelspec": {
   "display_name": "Python 3 (ipykernel)",
   "language": "python",
   "name": "python3"
  },
  "language_info": {
   "codemirror_mode": {
    "name": "ipython",
    "version": 3
   },
   "file_extension": ".py",
   "mimetype": "text/x-python",
   "name": "python",
   "nbconvert_exporter": "python",
   "pygments_lexer": "ipython3",
   "version": "3.9.12"
  }
 },
 "nbformat": 4,
 "nbformat_minor": 5
}
